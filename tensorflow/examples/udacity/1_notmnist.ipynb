{
 "cells": [
  {
   "cell_type": "markdown",
   "metadata": {
    "colab_type": "text",
    "id": "5hIbr52I7Z7U"
   },
   "source": [
    "Deep Learning\n",
    "=============\n",
    "\n",
    "Assignment 1\n",
    "------------\n",
    "\n",
    "The objective of this assignment is to learn about simple data curation practices, and familiarize you with some of the data we'll be reusing later.\n",
    "\n",
    "This notebook uses the [notMNIST](http://yaroslavvb.blogspot.com/2011/09/notmnist-dataset.html) dataset to be used with python experiments. This dataset is designed to look like the classic [MNIST](http://yann.lecun.com/exdb/mnist/) dataset, while looking a little more like real data: it's a harder task, and the data is a lot less 'clean' than MNIST."
   ]
  },
  {
   "cell_type": "code",
   "execution_count": 1,
   "metadata": {
    "cellView": "both",
    "colab": {
     "autoexec": {
      "startup": false,
      "wait_interval": 0
     }
    },
    "colab_type": "code",
    "id": "apJbCsBHl-2A"
   },
   "outputs": [],
   "source": [
    "# These are all the modules we'll be using later. Make sure you can import them\n",
    "# before proceeding further.\n",
    "from __future__ import print_function\n",
    "import imageio\n",
    "import matplotlib.pyplot as plt\n",
    "import numpy as np\n",
    "import os\n",
    "import sys\n",
    "import tarfile\n",
    "from IPython.display import display, Image\n",
    "from sklearn.linear_model import LogisticRegression, SGDClassifier\n",
    "from six.moves.urllib.request import urlretrieve\n",
    "from six.moves import cPickle as pickle\n",
    "\n",
    "# Config the matplotlib backend as plotting inline in IPython\n",
    "%matplotlib inline"
   ]
  },
  {
   "cell_type": "markdown",
   "metadata": {
    "colab_type": "text",
    "id": "jNWGtZaXn-5j"
   },
   "source": [
    "First, we'll download the dataset to our local machine. The data consists of characters rendered in a variety of fonts on a 28x28 image. The labels are limited to 'A' through 'J' (10 classes). The training set has about 500k and the testset 19000 labeled examples. Given these sizes, it should be possible to train models quickly on any machine."
   ]
  },
  {
   "cell_type": "code",
   "execution_count": 2,
   "metadata": {
    "cellView": "both",
    "colab": {
     "autoexec": {
      "startup": false,
      "wait_interval": 0
     },
     "output_extras": [
      {
       "item_id": 1
      }
     ]
    },
    "colab_type": "code",
    "executionInfo": {
     "elapsed": 186058,
     "status": "ok",
     "timestamp": 1444485672507,
     "user": {
      "color": "#1FA15D",
      "displayName": "Vincent Vanhoucke",
      "isAnonymous": false,
      "isMe": true,
      "permissionId": "05076109866853157986",
      "photoUrl": "//lh6.googleusercontent.com/-cCJa7dTDcgQ/AAAAAAAAAAI/AAAAAAAACgw/r2EZ_8oYer4/s50-c-k-no/photo.jpg",
      "sessionId": "2a0a5e044bb03b66",
      "userId": "102167687554210253930"
     },
     "user_tz": 420
    },
    "id": "EYRJ4ICW6-da",
    "outputId": "0d0f85df-155f-4a89-8e7e-ee32df36ec8d"
   },
   "outputs": [
    {
     "name": "stdout",
     "output_type": "stream",
     "text": [
      "Found and verified .\\notMNIST_large.tar.gz\n",
      "Found and verified .\\notMNIST_small.tar.gz\n"
     ]
    }
   ],
   "source": [
    "url = 'https://commondatastorage.googleapis.com/books1000/'\n",
    "last_percent_reported = None\n",
    "data_root = '.' # Change me to store data elsewhere\n",
    "\n",
    "def download_progress_hook(count, blockSize, totalSize):\n",
    "  \"\"\"A hook to report the progress of a download. This is mostly intended for users with\n",
    "  slow internet connections. Reports every 5% change in download progress.\n",
    "  \"\"\"\n",
    "  global last_percent_reported\n",
    "  percent = int(count * blockSize * 100 / totalSize)\n",
    "\n",
    "  if last_percent_reported != percent:\n",
    "    if percent % 5 == 0:\n",
    "      sys.stdout.write(\"%s%%\" % percent)\n",
    "      sys.stdout.flush()\n",
    "    else:\n",
    "      sys.stdout.write(\".\")\n",
    "      sys.stdout.flush()\n",
    "      \n",
    "    last_percent_reported = percent\n",
    "        \n",
    "def maybe_download(filename, expected_bytes, force=False):\n",
    "  \"\"\"Download a file if not present, and make sure it's the right size.\"\"\"\n",
    "  dest_filename = os.path.join(data_root, filename)\n",
    "  if force or not os.path.exists(dest_filename):\n",
    "    print('Attempting to download:', filename) \n",
    "    filename, _ = urlretrieve(url + filename, dest_filename, reporthook=download_progress_hook)\n",
    "    print('\\nDownload Complete!')\n",
    "  statinfo = os.stat(dest_filename)\n",
    "  if statinfo.st_size == expected_bytes:\n",
    "    print('Found and verified', dest_filename)\n",
    "  else:\n",
    "    raise Exception(\n",
    "      'Failed to verify ' + dest_filename + '. Can you get to it with a browser?')\n",
    "  return dest_filename\n",
    "\n",
    "train_filename = maybe_download('notMNIST_large.tar.gz', 247336696)\n",
    "test_filename = maybe_download('notMNIST_small.tar.gz', 8458043)"
   ]
  },
  {
   "cell_type": "markdown",
   "metadata": {
    "colab_type": "text",
    "id": "cC3p0oEyF8QT"
   },
   "source": [
    "Extract the dataset from the compressed .tar.gz file.\n",
    "This should give you a set of directories, labeled A through J."
   ]
  },
  {
   "cell_type": "code",
   "execution_count": 3,
   "metadata": {
    "cellView": "both",
    "colab": {
     "autoexec": {
      "startup": false,
      "wait_interval": 0
     },
     "output_extras": [
      {
       "item_id": 1
      }
     ]
    },
    "colab_type": "code",
    "executionInfo": {
     "elapsed": 186055,
     "status": "ok",
     "timestamp": 1444485672525,
     "user": {
      "color": "#1FA15D",
      "displayName": "Vincent Vanhoucke",
      "isAnonymous": false,
      "isMe": true,
      "permissionId": "05076109866853157986",
      "photoUrl": "//lh6.googleusercontent.com/-cCJa7dTDcgQ/AAAAAAAAAAI/AAAAAAAACgw/r2EZ_8oYer4/s50-c-k-no/photo.jpg",
      "sessionId": "2a0a5e044bb03b66",
      "userId": "102167687554210253930"
     },
     "user_tz": 420
    },
    "id": "H8CBE-WZ8nmj",
    "outputId": "ef6c790c-2513-4b09-962e-27c79390c762"
   },
   "outputs": [
    {
     "name": "stdout",
     "output_type": "stream",
     "text": [
      ".\\notMNIST_large already present - Skipping extraction of .\\notMNIST_large.tar.gz.\n",
      "['.\\\\notMNIST_large\\\\A', '.\\\\notMNIST_large\\\\B', '.\\\\notMNIST_large\\\\C', '.\\\\notMNIST_large\\\\D', '.\\\\notMNIST_large\\\\E', '.\\\\notMNIST_large\\\\F', '.\\\\notMNIST_large\\\\G', '.\\\\notMNIST_large\\\\H', '.\\\\notMNIST_large\\\\I', '.\\\\notMNIST_large\\\\J']\n",
      ".\\notMNIST_small already present - Skipping extraction of .\\notMNIST_small.tar.gz.\n",
      "['.\\\\notMNIST_small\\\\A', '.\\\\notMNIST_small\\\\B', '.\\\\notMNIST_small\\\\C', '.\\\\notMNIST_small\\\\D', '.\\\\notMNIST_small\\\\E', '.\\\\notMNIST_small\\\\F', '.\\\\notMNIST_small\\\\G', '.\\\\notMNIST_small\\\\H', '.\\\\notMNIST_small\\\\I', '.\\\\notMNIST_small\\\\J']\n"
     ]
    }
   ],
   "source": [
    "num_classes = 10\n",
    "np.random.seed(133)\n",
    "\n",
    "def maybe_extract(filename, force=False):\n",
    "  root = os.path.splitext(os.path.splitext(filename)[0])[0]  # remove .tar.gz\n",
    "  if os.path.isdir(root) and not force:\n",
    "    # You may override by setting force=True.\n",
    "    print('%s already present - Skipping extraction of %s.' % (root, filename))\n",
    "  else:\n",
    "    print('Extracting data for %s. This may take a while. Please wait.' % root)\n",
    "    tar = tarfile.open(filename)\n",
    "    sys.stdout.flush()\n",
    "    tar.extractall(data_root)\n",
    "    tar.close()\n",
    "  data_folders = [\n",
    "    os.path.join(root, d) for d in sorted(os.listdir(root))\n",
    "    if os.path.isdir(os.path.join(root, d))]\n",
    "  if len(data_folders) != num_classes:\n",
    "    raise Exception(\n",
    "      'Expected %d folders, one per class. Found %d instead.' % (\n",
    "        num_classes, len(data_folders)))\n",
    "  print(data_folders)\n",
    "  return data_folders\n",
    "  \n",
    "train_folders = maybe_extract(train_filename)\n",
    "test_folders = maybe_extract(test_filename)"
   ]
  },
  {
   "cell_type": "markdown",
   "metadata": {
    "colab_type": "text",
    "id": "4riXK3IoHgx6"
   },
   "source": [
    "---\n",
    "Problem 1\n",
    "---------\n",
    "\n",
    "Let's take a peek at some of the data to make sure it looks sensible. Each exemplar should be an image of a character A through J rendered in a different font. Display a sample of the images that we just downloaded. Hint: you can use the package IPython.display.\n",
    "\n",
    "---"
   ]
  },
  {
   "cell_type": "code",
   "execution_count": 4,
   "metadata": {},
   "outputs": [
    {
     "data": {
      "image/png": "[encoded data removed]",
      "text/plain": [
       "<IPython.core.display.Image object>"
      ]
     },
     "metadata": {},
     "output_type": "display_data"
    }
   ],
   "source": [
    "display(Image(filename=\"notMNIST_small/A/Q0NXaWxkV29yZHMtQm9sZEl0YWxpYy50dGY=.png\"))\n"
   ]
  },
  {
   "cell_type": "markdown",
   "metadata": {
    "colab_type": "text",
    "id": "PBdkjESPK8tw"
   },
   "source": [
    "Now let's load the data in a more manageable format. Since, depending on your computer setup you might not be able to fit it all in memory, we'll load each class into a separate dataset, store them on disk and curate them independently. Later we'll merge them into a single dataset of manageable size.\n",
    "\n",
    "We'll convert the entire dataset into a 3D array (image index, x, y) of floating point values, normalized to have approximately zero mean and standard deviation ~0.5 to make training easier down the road. \n",
    "\n",
    "A few images might not be readable, we'll just skip them."
   ]
  },
  {
   "cell_type": "code",
   "execution_count": 5,
   "metadata": {
    "cellView": "both",
    "colab": {
     "autoexec": {
      "startup": false,
      "wait_interval": 0
     },
     "output_extras": [
      {
       "item_id": 30
      }
     ]
    },
    "colab_type": "code",
    "executionInfo": {
     "elapsed": 399874,
     "status": "ok",
     "timestamp": 1444485886378,
     "user": {
      "color": "#1FA15D",
      "displayName": "Vincent Vanhoucke",
      "isAnonymous": false,
      "isMe": true,
      "permissionId": "05076109866853157986",
      "photoUrl": "//lh6.googleusercontent.com/-cCJa7dTDcgQ/AAAAAAAAAAI/AAAAAAAACgw/r2EZ_8oYer4/s50-c-k-no/photo.jpg",
      "sessionId": "2a0a5e044bb03b66",
      "userId": "102167687554210253930"
     },
     "user_tz": 420
    },
    "id": "h7q0XhG3MJdf",
    "outputId": "92c391bb-86ff-431d-9ada-315568a19e59"
   },
   "outputs": [
    {
     "name": "stdout",
     "output_type": "stream",
     "text": [
      ".\\notMNIST_large\\A.pickle already present - Skipping pickling.\n",
      ".\\notMNIST_large\\B.pickle already present - Skipping pickling.\n",
      ".\\notMNIST_large\\C.pickle already present - Skipping pickling.\n",
      ".\\notMNIST_large\\D.pickle already present - Skipping pickling.\n",
      ".\\notMNIST_large\\E.pickle already present - Skipping pickling.\n",
      ".\\notMNIST_large\\F.pickle already present - Skipping pickling.\n",
      ".\\notMNIST_large\\G.pickle already present - Skipping pickling.\n",
      ".\\notMNIST_large\\H.pickle already present - Skipping pickling.\n",
      ".\\notMNIST_large\\I.pickle already present - Skipping pickling.\n",
      ".\\notMNIST_large\\J.pickle already present - Skipping pickling.\n",
      ".\\notMNIST_small\\A.pickle already present - Skipping pickling.\n",
      ".\\notMNIST_small\\B.pickle already present - Skipping pickling.\n",
      ".\\notMNIST_small\\C.pickle already present - Skipping pickling.\n",
      ".\\notMNIST_small\\D.pickle already present - Skipping pickling.\n",
      ".\\notMNIST_small\\E.pickle already present - Skipping pickling.\n",
      ".\\notMNIST_small\\F.pickle already present - Skipping pickling.\n",
      ".\\notMNIST_small\\G.pickle already present - Skipping pickling.\n",
      ".\\notMNIST_small\\H.pickle already present - Skipping pickling.\n",
      ".\\notMNIST_small\\I.pickle already present - Skipping pickling.\n",
      ".\\notMNIST_small\\J.pickle already present - Skipping pickling.\n"
     ]
    }
   ],
   "source": [
    "image_size = 28  # Pixel width and height.\n",
    "pixel_depth = 255.0  # Number of levels per pixel.\n",
    "\n",
    "def load_letter(folder, min_num_images):\n",
    "  \"\"\"Load the data for a single letter label.\"\"\"\n",
    "  image_files = os.listdir(folder)\n",
    "  dataset = np.ndarray(shape=(len(image_files), image_size, image_size),\n",
    "                         dtype=np.float32)\n",
    "  print(folder)\n",
    "  num_images = 0\n",
    "  for image in image_files:\n",
    "    image_file = os.path.join(folder, image)\n",
    "    try:\n",
    "      image_data = (imageio.imread(image_file).astype(float) - \n",
    "                    pixel_depth / 2) / pixel_depth\n",
    "      if image_data.shape != (image_size, image_size):\n",
    "        raise Exception('Unexpected image shape: %s' % str(image_data.shape))\n",
    "      dataset[num_images, :, :] = image_data\n",
    "      num_images = num_images + 1\n",
    "    except (IOError, ValueError) as e:\n",
    "      print('Could not read:', image_file, ':', e, '- it\\'s ok, skipping.')\n",
    "    \n",
    "  dataset = dataset[0:num_images, :, :]\n",
    "  if num_images < min_num_images:\n",
    "    raise Exception('Many fewer images than expected: %d < %d' %\n",
    "                    (num_images, min_num_images))\n",
    "    \n",
    "  print('Full dataset tensor:', dataset.shape)\n",
    "  print('Mean:', np.mean(dataset))\n",
    "  print('Standard deviation:', np.std(dataset))\n",
    "  return dataset\n",
    "        \n",
    "def maybe_pickle(data_folders, min_num_images_per_class, force=False):\n",
    "  dataset_names = []\n",
    "  for folder in data_folders:\n",
    "    set_filename = folder + '.pickle'\n",
    "    dataset_names.append(set_filename)\n",
    "    if os.path.exists(set_filename) and not force:\n",
    "      # You may override by setting force=True.\n",
    "      print('%s already present - Skipping pickling.' % set_filename)\n",
    "    else:\n",
    "      print('Pickling %s.' % set_filename)\n",
    "      dataset = load_letter(folder, min_num_images_per_class)\n",
    "      try:\n",
    "        with open(set_filename, 'wb') as f:\n",
    "          pickle.dump(dataset, f, pickle.HIGHEST_PROTOCOL)\n",
    "      except Exception as e:\n",
    "        print('Unable to save data to', set_filename, ':', e)\n",
    "  \n",
    "  return dataset_names\n",
    "\n",
    "train_datasets = maybe_pickle(train_folders, 45000)\n",
    "test_datasets = maybe_pickle(test_folders, 1800)"
   ]
  },
  {
   "cell_type": "markdown",
   "metadata": {
    "colab_type": "text",
    "id": "vUdbskYE2d87"
   },
   "source": [
    "---\n",
    "Problem 2\n",
    "---------\n",
    "\n",
    "Let's verify that the data still looks good. Displaying a sample of the labels and images from the ndarray. Hint: you can use matplotlib.pyplot.\n",
    "\n",
    "---"
   ]
  },
  {
   "cell_type": "code",
   "execution_count": 13,
   "metadata": {},
   "outputs": [
    {
     "data": {
      "image/png": "[encoded data removed]",
      "text/plain": [
       "<matplotlib.figure.Figure at 0xb8830a9320>"
      ]
     },
     "metadata": {},
     "output_type": "display_data"
    }
   ],
   "source": [
    "pickle_file = train_datasets[3] # index 3 is for D\n",
    "with open(pickle_file, \"rb\") as f:\n",
    "    letter_set = pickle.load(f) # unpickle\n",
    "    sample_ind = np.random.randint(len(letter_set)) # pick a random index from 0 to letter_set-1\n",
    "    sample_image = letter_set[sample_ind, :, :] # extract a 2D slice\n",
    "    plt.figure()\n",
    "    plt.imshow(sample_image)"
   ]
  },
  {
   "cell_type": "markdown",
   "metadata": {
    "colab_type": "text",
    "id": "cYznx5jUwzoO"
   },
   "source": [
    "---\n",
    "Problem 3\n",
    "---------\n",
    "Another check: we expect the data to be balanced across classes. Verify that.\n",
    "\n",
    "---"
   ]
  },
  {
   "cell_type": "code",
   "execution_count": 6,
   "metadata": {},
   "outputs": [
    {
     "name": "stdout",
     "output_type": "stream",
     "text": [
      "CHECKING TRAIN DATASET \n",
      "-----------------\n",
      "Mean for letter A: -0.12825024127960205\n",
      "SD for letter A: 0.4431206285953522 \n",
      "\n",
      "Mean for letter B: -0.00756303034722805\n",
      "SD for letter B: 0.4544910490512848 \n",
      "\n",
      "Mean for letter C: -0.14225810766220093\n",
      "SD for letter C: 0.4398062527179718 \n",
      "\n",
      "Mean for letter D: -0.05736779421567917\n",
      "SD for letter D: 0.45564764738082886 \n",
      "\n",
      "Mean for letter E: -0.06989899277687073\n",
      "SD for letter E: 0.4529419541358948 \n",
      "\n",
      "Mean for letter F: -0.12558330595493317\n",
      "SD for letter F: 0.44708964228630066 \n",
      "\n",
      "Mean for letter G: -0.09458135068416595\n",
      "SD for letter G: 0.4462398290634155 \n",
      "\n",
      "Mean for letter H: -0.06852205842733383\n",
      "SD for letter H: 0.45423176884651184 \n",
      "\n",
      "Mean for letter I: 0.03078624978661537\n",
      "SD for letter I: 0.46889907121658325 \n",
      "\n",
      "Mean for letter J: -0.1533583551645279\n",
      "SD for letter J: 0.44365644454956055 \n",
      "\n"
     ]
    }
   ],
   "source": [
    "\"\"\"\n",
    "I don't really know what it means for the data to be \"balanced\" across classes.\n",
    "This is what I thought would be right: \n",
    "    for each letter set (A through J):\n",
    "        mean should be small (near 0)\n",
    "        standard deviation should be uniform (nearly equal)\n",
    "And that's what I tried to do.\n",
    "\n",
    "I wrote a part of the code in a function and called it, as I may need to redo the task later in the program.\n",
    "\"\"\"\n",
    "\n",
    "def balance_check(dataset, name=None):\n",
    "    print(f'Mean for letter {name}: {np.mean(dataset)}')\n",
    "    print(f'SD for letter {name}: {np.std(dataset)} \\n')\n",
    "\n",
    "print(\"CHECKING TRAIN DATASET \\n-----------------\")\n",
    "letters = \"ABCDEFGHIJ\"\n",
    "for class_ind in range(num_classes):\n",
    "    pickle_file = train_datasets[class_ind]\n",
    "    with open(pickle_file, \"rb\") as f:\n",
    "        letter_set = pickle.load(f)\n",
    "        balance_check(letter_set, letters[class_ind])"
   ]
  },
  {
   "cell_type": "markdown",
   "metadata": {
    "colab_type": "text",
    "id": "LA7M7K22ynCt"
   },
   "source": [
    "Merge and prune the training data as needed. Depending on your computer setup, you might not be able to fit it all in memory, and you can tune `train_size` as needed. The labels will be stored into a separate array of integers 0 through 9.\n",
    "\n",
    "Also create a validation dataset for hyperparameter tuning."
   ]
  },
  {
   "cell_type": "code",
   "execution_count": 17,
   "metadata": {
    "cellView": "both",
    "colab": {
     "autoexec": {
      "startup": false,
      "wait_interval": 0
     },
     "output_extras": [
      {
       "item_id": 1
      }
     ]
    },
    "colab_type": "code",
    "executionInfo": {
     "elapsed": 411281,
     "status": "ok",
     "timestamp": 1444485897869,
     "user": {
      "color": "#1FA15D",
      "displayName": "Vincent Vanhoucke",
      "isAnonymous": false,
      "isMe": true,
      "permissionId": "05076109866853157986",
      "photoUrl": "//lh6.googleusercontent.com/-cCJa7dTDcgQ/AAAAAAAAAAI/AAAAAAAACgw/r2EZ_8oYer4/s50-c-k-no/photo.jpg",
      "sessionId": "2a0a5e044bb03b66",
      "userId": "102167687554210253930"
     },
     "user_tz": 420
    },
    "id": "s3mWgZLpyuzq",
    "outputId": "8af66da6-902d-4719-bedc-7c9fb7ae7948"
   },
   "outputs": [
    {
     "name": "stdout",
     "output_type": "stream",
     "text": [
      "Training: (200000, 28, 28) (200000,)\n",
      "Validation: (1000, 28, 28) (1000,)\n",
      "Testing: (1000, 28, 28) (1000,)\n"
     ]
    }
   ],
   "source": [
    "def make_arrays(nb_rows, img_size):\n",
    "  if nb_rows:\n",
    "    dataset = np.ndarray((nb_rows, img_size, img_size), dtype=np.float32)\n",
    "    labels = np.ndarray(nb_rows, dtype=np.int32)\n",
    "  else:\n",
    "    dataset, labels = None, None\n",
    "  return dataset, labels\n",
    "\n",
    "def merge_datasets(pickle_files, train_size, valid_size=0):\n",
    "  num_classes = len(pickle_files)\n",
    "  valid_dataset, valid_labels = make_arrays(valid_size, image_size)\n",
    "  train_dataset, train_labels = make_arrays(train_size, image_size)\n",
    "  vsize_per_class = valid_size // num_classes\n",
    "  tsize_per_class = train_size // num_classes\n",
    "    \n",
    "  start_v, start_t = 0, 0\n",
    "  end_v, end_t = vsize_per_class, tsize_per_class\n",
    "  end_l = vsize_per_class+tsize_per_class\n",
    "  for label, pickle_file in enumerate(pickle_files):       \n",
    "    try:\n",
    "      with open(pickle_file, 'rb') as f:\n",
    "        letter_set = pickle.load(f)\n",
    "        # let's shuffle the letters to have random validation and training set\n",
    "        np.random.shuffle(letter_set)\n",
    "        if valid_dataset is not None:\n",
    "          valid_letter = letter_set[:vsize_per_class, :, :]\n",
    "          valid_dataset[start_v:end_v, :, :] = valid_letter\n",
    "          valid_labels[start_v:end_v] = label\n",
    "          start_v += vsize_per_class\n",
    "          end_v += vsize_per_class\n",
    "                    \n",
    "        train_letter = letter_set[vsize_per_class:end_l, :, :]\n",
    "        train_dataset[start_t:end_t, :, :] = train_letter\n",
    "        train_labels[start_t:end_t] = label\n",
    "        start_t += tsize_per_class\n",
    "        end_t += tsize_per_class\n",
    "    except Exception as e:\n",
    "      print('Unable to process data from', pickle_file, ':', e)\n",
    "      raise\n",
    "    \n",
    "  return valid_dataset, valid_labels, train_dataset, train_labels\n",
    "            \n",
    "\n",
    "# These sizes work well with my computer; you may change them according to your computer memory\n",
    "train_size = 200000\n",
    "valid_size = 1000\n",
    "test_size = 1000\n",
    "\n",
    "valid_dataset, valid_labels, train_dataset, train_labels = merge_datasets(\n",
    "  train_datasets, train_size, valid_size)\n",
    "_, _, test_dataset, test_labels = merge_datasets(test_datasets, test_size)\n",
    "\n",
    "print('Training:', train_dataset.shape, train_labels.shape)\n",
    "print('Validation:', valid_dataset.shape, valid_labels.shape)\n",
    "print('Testing:', test_dataset.shape, test_labels.shape)"
   ]
  },
  {
   "cell_type": "markdown",
   "metadata": {
    "colab_type": "text",
    "id": "GPTCnjIcyuKN"
   },
   "source": [
    "Next, we'll randomize the data. It's important to have the labels well shuffled for the training and test distributions to match."
   ]
  },
  {
   "cell_type": "code",
   "execution_count": 18,
   "metadata": {
    "cellView": "both",
    "colab": {
     "autoexec": {
      "startup": false,
      "wait_interval": 0
     }
    },
    "colab_type": "code",
    "id": "6WZ2l2tN2zOL"
   },
   "outputs": [],
   "source": [
    "def randomize(dataset, labels):\n",
    "  permutation = np.random.permutation(labels.shape[0])\n",
    "  shuffled_dataset = dataset[permutation,:,:]\n",
    "  shuffled_labels = labels[permutation]\n",
    "  return shuffled_dataset, shuffled_labels\n",
    "train_dataset, train_labels = randomize(train_dataset, train_labels)\n",
    "test_dataset, test_labels = randomize(test_dataset, test_labels)\n",
    "valid_dataset, valid_labels = randomize(valid_dataset, valid_labels)"
   ]
  },
  {
   "cell_type": "markdown",
   "metadata": {
    "colab_type": "text",
    "id": "puDUTe6t6USl"
   },
   "source": [
    "---\n",
    "Problem 4\n",
    "---------\n",
    "Convince yourself that the data is still good after shuffling!\n",
    "\n",
    "---"
   ]
  },
  {
   "cell_type": "code",
   "execution_count": 19,
   "metadata": {},
   "outputs": [
    {
     "name": "stdout",
     "output_type": "stream",
     "text": [
      "Mean for letter Train Dataset: -0.08171843737363815\n",
      "SD for letter Train Dataset: 0.4542232155799866 \n",
      "\n",
      "Mean for letter Test Dataset: -0.07867617905139923\n",
      "SD for letter Test Dataset: 0.4577752351760864 \n",
      "\n"
     ]
    }
   ],
   "source": [
    "# I assume I should repeat the same process as in Problem 3 to check the validity of the data\n",
    "\n",
    "balance_check(train_dataset, \"Train Dataset\")\n",
    "balance_check(test_dataset, \"Test Dataset\")"
   ]
  },
  {
   "cell_type": "markdown",
   "metadata": {
    "colab_type": "text",
    "id": "tIQJaJuwg5Hw"
   },
   "source": [
    "Finally, let's save the data for later reuse:"
   ]
  },
  {
   "cell_type": "code",
   "execution_count": 20,
   "metadata": {
    "cellView": "both",
    "colab": {
     "autoexec": {
      "startup": false,
      "wait_interval": 0
     }
    },
    "colab_type": "code",
    "id": "QiR_rETzem6C"
   },
   "outputs": [],
   "source": [
    "pickle_file = os.path.join(data_root, 'notMNIST.pickle')\n",
    "\n",
    "try:\n",
    "  f = open(pickle_file, 'wb')\n",
    "  save = {\n",
    "    'train_dataset': train_dataset,\n",
    "    'train_labels': train_labels,\n",
    "    'valid_dataset': valid_dataset,\n",
    "    'valid_labels': valid_labels,\n",
    "    'test_dataset': test_dataset,\n",
    "    'test_labels': test_labels,\n",
    "    }\n",
    "  pickle.dump(save, f, pickle.HIGHEST_PROTOCOL)\n",
    "  f.close()\n",
    "except Exception as e:\n",
    "  print('Unable to save data to', pickle_file, ':', e)\n",
    "  raise"
   ]
  },
  {
   "cell_type": "code",
   "execution_count": 21,
   "metadata": {
    "cellView": "both",
    "colab": {
     "autoexec": {
      "startup": false,
      "wait_interval": 0
     },
     "output_extras": [
      {
       "item_id": 1
      }
     ]
    },
    "colab_type": "code",
    "executionInfo": {
     "elapsed": 413065,
     "status": "ok",
     "timestamp": 1444485899688,
     "user": {
      "color": "#1FA15D",
      "displayName": "Vincent Vanhoucke",
      "isAnonymous": false,
      "isMe": true,
      "permissionId": "05076109866853157986",
      "photoUrl": "//lh6.googleusercontent.com/-cCJa7dTDcgQ/AAAAAAAAAAI/AAAAAAAACgw/r2EZ_8oYer4/s50-c-k-no/photo.jpg",
      "sessionId": "2a0a5e044bb03b66",
      "userId": "102167687554210253930"
     },
     "user_tz": 420
    },
    "id": "hQbLjrW_iT39",
    "outputId": "b440efc6-5ee1-4cbc-d02d-93db44ebd956"
   },
   "outputs": [
    {
     "name": "stdout",
     "output_type": "stream",
     "text": [
      "Compressed pickle size: 634280506\n"
     ]
    }
   ],
   "source": [
    "statinfo = os.stat(pickle_file)\n",
    "print('Compressed pickle size:', statinfo.st_size)"
   ]
  },
  {
   "cell_type": "markdown",
   "metadata": {
    "colab_type": "text",
    "id": "gE_cRAQB33lk"
   },
   "source": [
    "---\n",
    "Problem 5\n",
    "---------\n",
    "\n",
    "By construction, this dataset might contain a lot of overlapping samples, including training data that's also contained in the validation and test set! Overlap between training and test can skew the results if you expect to use your model in an environment where there is never an overlap, but are actually ok if you expect to see training samples recur when you use it.\n",
    "Measure how much overlap there is between training, validation and test samples.\n",
    "\n",
    "Optional questions:\n",
    "- What about near duplicates between datasets? (images that are almost identical)\n",
    "- Create a sanitized validation and test set, and compare your accuracy on those in subsequent assignments.\n",
    "---"
   ]
  },
  {
   "cell_type": "code",
   "execution_count": 22,
   "metadata": {},
   "outputs": [
    {
     "name": "stdout",
     "output_type": "stream",
     "text": [
      "27806 overlaps across train, test and validation sets.\n"
     ]
    }
   ],
   "source": [
    "overlaps = 0\n",
    "for ind in range(test_size):\n",
    "    for i in test_dataset[ind]:\n",
    "        if i in train_dataset[ind] and i in valid_dataset[ind]:\n",
    "            overlaps += 1\n",
    "        \n",
    "print(f'{overlaps} overlaps across train, test and validation sets.')\n",
    "\n",
    "# Skipping the optional questions, at least for now"
   ]
  },
  {
   "cell_type": "markdown",
   "metadata": {
    "colab_type": "text",
    "id": "L8oww1s4JMQx"
   },
   "source": [
    "---\n",
    "Problem 6\n",
    "---------\n",
    "\n",
    "Let's get an idea of what an off-the-shelf classifier can give you on this data. It's always good to check that there is something to learn, and that it's a problem that is not so trivial that a canned solution solves it.\n",
    "\n",
    "Train a simple model on this data using 50, 100, 1000 and 5000 training samples. Hint: you can use the LogisticRegression model from sklearn.linear_model.\n",
    "\n",
    "Optional question: train an off-the-shelf model on all the data!\n",
    "\n",
    "---"
   ]
  },
  {
   "cell_type": "code",
   "execution_count": 23,
   "metadata": {},
   "outputs": [],
   "source": [
    "# Reshape the datasets into 2D arrays because that's what sklearn supports\n",
    "nsamples, nx, ny = train_dataset.shape\n",
    "train_dataset = train_dataset.reshape(nsamples, nx*ny)\n",
    "nsamples, nx, ny = test_dataset.shape\n",
    "test_dataset = test_dataset.reshape(nsamples, nx*ny)"
   ]
  },
  {
   "cell_type": "code",
   "execution_count": 28,
   "metadata": {},
   "outputs": [],
   "source": [
    "# Prepare a basic model\n",
    "model = SGDClassifier(verbose=1, loss='log', learning_rate='optimal', eta0=0.19)"
   ]
  },
  {
   "cell_type": "code",
   "execution_count": 29,
   "metadata": {},
   "outputs": [
    {
     "name": "stdout",
     "output_type": "stream",
     "text": [
      "-- Epoch 1\n",
      "Norm: 27.66, NNZs: 784, Bias: -38.241151, T: 200000, Avg. loss: 1.683947\n",
      "Total training time: 2.55 seconds.\n",
      "-- Epoch 2\n",
      "Norm: 10.25, NNZs: 784, Bias: -8.622305, T: 400000, Avg. loss: 0.959585\n",
      "Total training time: 4.12 seconds.\n",
      "-- Epoch 3\n",
      "Norm: 6.05, NNZs: 784, Bias: -5.076129, T: 600000, Avg. loss: 0.682747\n",
      "Total training time: 5.74 seconds.\n",
      "-- Epoch 4\n",
      "Norm: 5.19, NNZs: 784, Bias: -4.609994, T: 800000, Avg. loss: 0.540973\n",
      "Total training time: 7.82 seconds.\n",
      "-- Epoch 5\n",
      "Norm: 4.93, NNZs: 784, Bias: -4.321424, T: 1000000, Avg. loss: 0.454929\n",
      "Total training time: 9.52 seconds.\n",
      "-- Epoch 1\n",
      "Norm: 40.92, NNZs: 784, Bias: -56.355798, T: 200000, Avg. loss: 2.216900\n",
      "Total training time: 1.52 seconds.\n",
      "-- Epoch 2\n",
      "Norm: 18.96, NNZs: 784, Bias: -19.639905, T: 400000, Avg. loss: 1.284165\n",
      "Total training time: 3.32 seconds.\n",
      "-- Epoch 3\n",
      "Norm: 9.64, NNZs: 784, Bias: -8.475795, T: 600000, Avg. loss: 0.917392\n",
      "Total training time: 5.04 seconds.\n",
      "-- Epoch 4\n",
      "Norm: 6.41, NNZs: 784, Bias: -5.866751, T: 800000, Avg. loss: 0.724641\n",
      "Total training time: 6.87 seconds.\n",
      "-- Epoch 5\n",
      "Norm: 5.49, NNZs: 784, Bias: -5.298231, T: 1000000, Avg. loss: 0.607125\n",
      "Total training time: 9.02 seconds.\n",
      "-- Epoch 1\n",
      "Norm: 64.74, NNZs: 784, Bias: -198.981017, T: 200000, Avg. loss: 2.641449\n",
      "Total training time: 1.50 seconds.\n",
      "-- Epoch 2\n",
      "Norm: 53.21, NNZs: 784, Bias: -143.108484, T: 400000, Avg. loss: 1.922050\n",
      "Total training time: 2.77 seconds.\n",
      "-- Epoch 3\n",
      "Norm: 45.85, NNZs: 784, Bias: -111.922109, T: 600000, Avg. loss: 1.571686\n",
      "Total training time: 4.65 seconds.\n",
      "-- Epoch 4\n",
      "Norm: 39.99, NNZs: 784, Bias: -90.998549, T: 800000, Avg. loss: 1.348658\n",
      "Total training time: 6.88 seconds.\n",
      "-- Epoch 5\n",
      "Norm: 35.59, NNZs: 784, Bias: -75.440775, T: 1000000, Avg. loss: 1.189051\n",
      "Total training time: 8.42 seconds.\n",
      "-- Epoch 1\n",
      "Norm: 34.04, NNZs: 784, Bias: -45.983894, T: 200000, Avg. loss: 1.660464\n",
      "Total training time: 1.54 seconds.\n",
      "-- Epoch 2\n",
      "Norm: 15.15, NNZs: 784, Bias: -15.035246, T: 400000, Avg. loss: 0.962092\n",
      "Total training time: 3.32 seconds.\n",
      "-- Epoch 3\n",
      "Norm: 7.80, NNZs: 784, Bias: -6.696508, T: 600000, Avg. loss: 0.688869\n",
      "Total training time: 5.12 seconds.\n",
      "-- Epoch 4\n",
      "Norm: 5.73, NNZs: 784, Bias: -5.115559, T: 800000, Avg. loss: 0.546068\n",
      "Total training time: 6.98 seconds.\n",
      "-- Epoch 5\n",
      "Norm: 5.13, NNZs: 784, Bias: -4.659944, T: 1000000, Avg. loss: 0.459219\n",
      "Total training time: 9.04 seconds.\n",
      "-- Epoch 1\n",
      "Norm: 28.40, NNZs: 784, Bias: -46.120437, T: 200000, Avg. loss: 2.871214\n",
      "Total training time: 1.54 seconds.\n",
      "-- Epoch 2\n",
      "Norm: 8.33, NNZs: 784, Bias: -7.359388, T: 400000, Avg. loss: 1.617023\n",
      "Total training time: 3.05 seconds.\n",
      "-- Epoch 3\n",
      "Norm: 6.35, NNZs: 784, Bias: -5.762437, T: 600000, Avg. loss: 1.144773\n",
      "Total training time: 4.66 seconds.\n",
      "-- Epoch 4\n",
      "Norm: 5.65, NNZs: 784, Bias: -5.424666, T: 800000, Avg. loss: 0.904614\n",
      "Total training time: 6.22 seconds.\n",
      "-- Epoch 5\n",
      "Norm: 5.47, NNZs: 784, Bias: -5.346646, T: 1000000, Avg. loss: 0.759000\n",
      "Total training time: 7.93 seconds.\n",
      "-- Epoch 1\n",
      "Norm: 71.12, NNZs: 784, Bias: -228.589295, T: 200000, Avg. loss: 2.177441\n",
      "Total training time: 1.52 seconds.\n",
      "-- Epoch 2\n",
      "Norm: 62.19, NNZs: 784, Bias: -187.684878, T: 400000, Avg. loss: 1.564084\n",
      "Total training time: 3.23 seconds.\n",
      "-- Epoch 3\n",
      "Norm: 57.30, NNZs: 784, Bias: -164.916953, T: 600000, Avg. loss: 1.301084\n",
      "Total training time: 4.90 seconds.\n",
      "-- Epoch 4\n",
      "Norm: 53.06, NNZs: 784, Bias: -149.569885, T: 800000, Avg. loss: 1.145731\n",
      "Total training time: 6.70 seconds.\n",
      "-- Epoch 5\n",
      "Norm: 50.15, NNZs: 784, Bias: -137.829768, T: 1000000, Avg. loss: 1.039922\n",
      "Total training time: 8.42 seconds.\n",
      "-- Epoch 1\n",
      "Norm: 41.32, NNZs: 784, Bias: -69.389093, T: 200000, Avg. loss: 2.390479\n",
      "Total training time: 1.70 seconds.\n",
      "-- Epoch 2\n",
      "Norm: 20.56, NNZs: 784, Bias: -24.369845, T: 400000, Avg. loss: 1.412479\n",
      "Total training time: 3.23 seconds.\n",
      "-- Epoch 3\n",
      "Norm: 10.14, NNZs: 784, Bias: -9.313278, T: 600000, Avg. loss: 1.010906\n",
      "Total training time: 4.91 seconds.\n",
      "-- Epoch 4\n",
      "Norm: 6.19, NNZs: 784, Bias: -5.651167, T: 800000, Avg. loss: 0.795833\n",
      "Total training time: 6.48 seconds.\n",
      "-- Epoch 5\n",
      "Norm: 5.15, NNZs: 784, Bias: -4.930699, T: 1000000, Avg. loss: 0.664383\n",
      "Total training time: 8.01 seconds.\n",
      "-- Epoch 1\n",
      "Norm: 10.32, NNZs: 784, Bias: -6.258780, T: 200000, Avg. loss: 1.416432\n",
      "Total training time: 1.55 seconds.\n",
      "-- Epoch 2\n",
      "Norm: 6.40, NNZs: 784, Bias: -4.511721, T: 400000, Avg. loss: 0.792826\n",
      "Total training time: 3.21 seconds.\n",
      "-- Epoch 3\n",
      "Norm: 5.62, NNZs: 784, Bias: -4.022177, T: 600000, Avg. loss: 0.573353\n",
      "Total training time: 5.11 seconds.\n",
      "-- Epoch 4\n",
      "Norm: 5.19, NNZs: 784, Bias: -3.601376, T: 800000, Avg. loss: 0.461045\n",
      "Total training time: 6.99 seconds.\n",
      "-- Epoch 5\n",
      "Norm: 4.86, NNZs: 784, Bias: -3.398105, T: 1000000, Avg. loss: 0.392710\n",
      "Total training time: 8.88 seconds.\n",
      "-- Epoch 1\n",
      "Norm: 10.09, NNZs: 784, Bias: -4.612671, T: 200000, Avg. loss: 1.791080\n",
      "Total training time: 1.88 seconds.\n",
      "-- Epoch 2\n",
      "Norm: 6.34, NNZs: 784, Bias: -2.694137, T: 400000, Avg. loss: 1.014323\n",
      "Total training time: 3.65 seconds.\n",
      "-- Epoch 3\n",
      "Norm: 5.43, NNZs: 784, Bias: -2.223766, T: 600000, Avg. loss: 0.737748\n",
      "Total training time: 5.43 seconds.\n",
      "-- Epoch 4\n",
      "Norm: 4.95, NNZs: 784, Bias: -2.138854, T: 800000, Avg. loss: 0.595795\n",
      "Total training time: 7.01 seconds.\n",
      "-- Epoch 5\n",
      "Norm: 4.78, NNZs: 784, Bias: -2.224899, T: 1000000, Avg. loss: 0.509116\n",
      "Total training time: 8.86 seconds.\n",
      "-- Epoch 1\n",
      "Norm: 54.00, NNZs: 784, Bias: -156.186594, T: 200000, Avg. loss: 1.990708\n",
      "Total training time: 2.05 seconds.\n",
      "-- Epoch 2\n",
      "Norm: 44.47, NNZs: 784, Bias: -112.952579, T: 400000, Avg. loss: 1.375200\n",
      "Total training time: 4.16 seconds.\n",
      "-- Epoch 3\n",
      "Norm: 38.47, NNZs: 784, Bias: -89.404391, T: 600000, Avg. loss: 1.099660\n",
      "Total training time: 6.02 seconds.\n",
      "-- Epoch 4\n",
      "Norm: 33.83, NNZs: 784, Bias: -73.720245, T: 800000, Avg. loss: 0.933583\n",
      "Total training time: 7.73 seconds.\n",
      "-- Epoch 5\n",
      "Norm: 30.06, NNZs: 784, Bias: -62.252149, T: 1000000, Avg. loss: 0.819212\n",
      "Total training time: 9.30 seconds.\n"
     ]
    },
    {
     "name": "stderr",
     "output_type": "stream",
     "text": [
      "[Parallel(n_jobs=1)]: Done  10 out of  10 | elapsed:  1.5min finished\n"
     ]
    },
    {
     "data": {
      "text/plain": [
       "SGDClassifier(alpha=0.0001, average=False, class_weight=None, epsilon=0.1,\n",
       "       eta0=0.19, fit_intercept=True, l1_ratio=0.15,\n",
       "       learning_rate='optimal', loss='log', n_iter=5, n_jobs=1,\n",
       "       penalty='l2', power_t=0.5, random_state=None, shuffle=True,\n",
       "       verbose=1, warm_start=False)"
      ]
     },
     "execution_count": 29,
     "metadata": {},
     "output_type": "execute_result"
    }
   ],
   "source": [
    "# Train it with the train dataset and the labels\n",
    "model.fit(train_dataset, train_labels)"
   ]
  },
  {
   "cell_type": "code",
   "execution_count": 30,
   "metadata": {},
   "outputs": [],
   "source": [
    "# Test it with the test dataset\n",
    "pred = model.predict(test_dataset)"
   ]
  },
  {
   "cell_type": "code",
   "execution_count": 31,
   "metadata": {},
   "outputs": [
    {
     "name": "stdout",
     "output_type": "stream",
     "text": [
      "Accuracy of prediction: 0.88\n"
     ]
    }
   ],
   "source": [
    "# Compute the accuracy of the predicted model\n",
    "\n",
    "from sklearn.metrics import accuracy_score\n",
    "accuracy = accuracy_score(pred,test_labels)\n",
    "\n",
    "print(f'Accuracy of prediction: {accuracy}')"
   ]
  },
  {
   "cell_type": "code",
   "execution_count": null,
   "metadata": {},
   "outputs": [],
   "source": []
  }
 ],
 "metadata": {
  "colab": {
   "default_view": {},
   "name": "1_notmnist.ipynb",
   "provenance": [],
   "version": "0.3.2",
   "views": {}
  },
  "kernelspec": {
   "display_name": "Python 3",
   "language": "python",
   "name": "python3"
  },
  "language_info": {
   "codemirror_mode": {
    "name": "ipython",
    "version": 3
   },
   "file_extension": ".py",
   "mimetype": "text/x-python",
   "name": "python",
   "nbconvert_exporter": "python",
   "pygments_lexer": "ipython3",
   "version": "3.6.1"
  }
 },
 "nbformat": 4,
 "nbformat_minor": 1
}
